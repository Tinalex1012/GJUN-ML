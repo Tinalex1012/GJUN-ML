{
 "cells": [
  {
   "cell_type": "markdown",
   "metadata": {},
   "source": [
    "### 今彩539 機率\n",
    "\n",
    "今彩539是一種樂透型遊戲，必須從01~39的號碼中任選5個號碼進行投注。開獎時，開獎單位將隨機開出五個號碼，這一組號碼就是該期今彩539的中獎號碼，也稱為「獎號」。五個選號中，如有二個以上（含二個號碼）對中當期開出之五個號碼，即為中獎。"
   ]
  },
  {
   "cell_type": "markdown",
   "metadata": {},
   "source": [
    "排列：$_{n}P_{k} = \\frac{n!}{(n-k)!}$\n",
    "\n",
    "組合：$_{n}C_{k}$ 或 $\\begin{pmatrix} n \\\\ k\\end{pmatrix} = \\frac{n!}{k!(n-k)!}$"
   ]
  },
  {
   "cell_type": "code",
   "execution_count": 37,
   "metadata": {},
   "outputs": [],
   "source": [
    "from math import factorial as fac   # 呼叫階乘函數\n",
    "import numpy as np"
   ]
  },
  {
   "cell_type": "markdown",
   "metadata": {},
   "source": [
    "彩號39取5可能的組合共有 39 x 38 x 37 x 36 x 35 = 69,090,840 種\n",
    "\n",
    "5個中獎彩球的組合方式共有 5 x 4 x 3 x 2 x 1 = 120 種 (不分大小與順序)\n",
    "\n",
    "結合中獎可能組合和彩號組合可得狀況為 69090840 / 120 = 575757 機率為 1 / 575757 = 1.74e-6"
   ]
  },
  {
   "cell_type": "code",
   "execution_count": 38,
   "metadata": {},
   "outputs": [],
   "source": [
    "def permutation(n,k):\n",
    "    return fac(n)/fac(n-k)\n",
    "def combination(n,k):\n",
    "    return permutation(n,k)/fac(k)\n",
    "def probability(n,k):\n",
    "    return 1/combination(n,k)"
   ]
  },
  {
   "cell_type": "code",
   "execution_count": 39,
   "metadata": {},
   "outputs": [
    {
     "name": "stdout",
     "output_type": "stream",
     "text": [
      "39取5的組合狀況：69090840.0\n",
      "5個彩球組合狀況：120\n",
      "39取5加上5球組合：575757.0\n",
      "頭獎五球全中機率：0.00000174\n"
     ]
    }
   ],
   "source": [
    "print(f\"39取5的組合狀況：{permutation(39,5)}\")\n",
    "print(f\"5個彩球組合狀況：{fac(5)}\")\n",
    "print(f\"39取5加上5球組合：{combination(39,5)}\")\n",
    "prob1 = probability(39,5)\n",
    "print(f\"頭獎五球全中機率：{prob1:.8f}\")"
   ]
  },
  {
   "cell_type": "markdown",
   "metadata": {},
   "source": [
    "二獎/ (彩號5球中4球 * 未中獎34中1) / 39 取 5 組合"
   ]
  },
  {
   "cell_type": "code",
   "execution_count": 40,
   "metadata": {},
   "outputs": [
    {
     "name": "stdout",
     "output_type": "stream",
     "text": [
      "二獎五中四機率：0.00029526 組數：170.0\n"
     ]
    }
   ],
   "source": [
    "prob2 = combination(5,4)*combination(34,1)*probability(39,5)\n",
    "comb2 = combination(5,4)*combination(34,1)\n",
    "print(f\"二獎五中四機率：{prob2:.8f} 組數：{comb2}\")"
   ]
  },
  {
   "cell_type": "markdown",
   "metadata": {},
   "source": [
    "三獎/ (彩號5球中3球 * 未中獎34中2) / 39 取 5 組合"
   ]
  },
  {
   "cell_type": "code",
   "execution_count": 41,
   "metadata": {},
   "outputs": [
    {
     "name": "stdout",
     "output_type": "stream",
     "text": [
      "三獎五中三機率：0.00974369 組數：5610.0\n"
     ]
    }
   ],
   "source": [
    "prob3 = combination(5,3)*combination(34,2)*probability(39,5)\n",
    "comb3 = combination(5,3)*combination(34,2)\n",
    "print(f\"三獎五中三機率：{prob3:.8f} 組數：{comb3}\")"
   ]
  },
  {
   "cell_type": "markdown",
   "metadata": {},
   "source": [
    "四獎/ (彩號5球中2球 * 未中獎34中3) / 39 取 5 組合"
   ]
  },
  {
   "cell_type": "code",
   "execution_count": 42,
   "metadata": {},
   "outputs": [
    {
     "name": "stdout",
     "output_type": "stream",
     "text": [
      "四獎五中二機率：0.10393274 組數：59840.0\n"
     ]
    }
   ],
   "source": [
    "prob4 = combination(5,2)*combination(34,3)*probability(39,5)\n",
    "comb4 = combination(5,2)*combination(34,3)\n",
    "print(f\"四獎五中二機率：{prob4:.8f} 組數：{comb4}\")"
   ]
  },
  {
   "cell_type": "markdown",
   "metadata": {},
   "source": [
    "中獎期望值"
   ]
  },
  {
   "cell_type": "code",
   "execution_count": 51,
   "metadata": {},
   "outputs": [
    {
     "name": "stdout",
     "output_type": "stream",
     "text": [
      "期望值：27.91976476\n",
      "報酬率：-44.16%\n"
     ]
    }
   ],
   "source": [
    "prob = np.array([prob1,prob2,prob3,prob4])\n",
    "winnings = np.array([8000000,20000,300,50])\n",
    "cost = 50 # 下注成本\n",
    "print(f\"期望值：{np.sum(prob*winnings):.8f}\")\n",
    "print(f\"報酬率：{(np.sum(prob*winnings)-cost)/cost * 100:.2f}%\")"
   ]
  }
 ],
 "metadata": {
  "kernelspec": {
   "display_name": "GJUN-ML",
   "language": "python",
   "name": "python3"
  },
  "language_info": {
   "codemirror_mode": {
    "name": "ipython",
    "version": 3
   },
   "file_extension": ".py",
   "mimetype": "text/x-python",
   "name": "python",
   "nbconvert_exporter": "python",
   "pygments_lexer": "ipython3",
   "version": "3.11.4"
  },
  "orig_nbformat": 4
 },
 "nbformat": 4,
 "nbformat_minor": 2
}
