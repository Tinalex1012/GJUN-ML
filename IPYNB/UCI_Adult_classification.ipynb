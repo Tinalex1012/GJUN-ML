{
 "cells": [
  {
   "cell_type": "markdown",
   "metadata": {},
   "source": [
    "# 屬性資料預測年所得"
   ]
  },
  {
   "cell_type": "markdown",
   "metadata": {},
   "source": [
    "## 載入相關套件"
   ]
  },
  {
   "cell_type": "code",
   "execution_count": 1,
   "metadata": {},
   "outputs": [],
   "source": [
    "from sklearn import datasets\n",
    "from sklearn.model_selection import train_test_split\n",
    "from sklearn.metrics import accuracy_score\n",
    "import pandas as pd\n",
    "import numpy as np\n",
    "import os,sys,csv"
   ]
  },
  {
   "cell_type": "markdown",
   "metadata": {},
   "source": [
    "## 1. 載入資料集"
   ]
  },
  {
   "cell_type": "code",
   "execution_count": 2,
   "metadata": {},
   "outputs": [],
   "source": [
    "# ds = datasets.load_breast_cancer()\n",
    "ds = pd.read_csv('data/adult.data', header=None)\n",
    "ds.columns = ['age','workclass','fnlwgt','education','education-num','marital-status','occupation' ,'relationship'\n",
    "               ,'race','sex','capital-gain','capital-loss','hours-per-week','native-country','target']\n",
    "dt = pd.read_csv('data/adult.test', header=None,skiprows=1)\n",
    "dt.columns = ['age','workclass','fnlwgt','education','education-num','marital-status','occupation' ,'relationship'\n",
    "               ,'race','sex','capital-gain','capital-loss','hours-per-week','native-country','target']"
   ]
  },
  {
   "cell_type": "markdown",
   "metadata": {},
   "source": [
    "## 2. 資料清理、資料探索與分析"
   ]
  },
  {
   "cell_type": "code",
   "execution_count": 3,
   "metadata": {
    "scrolled": false
   },
   "outputs": [
    {
     "data": {
      "text/html": [
       "<div>\n",
       "<style scoped>\n",
       "    .dataframe tbody tr th:only-of-type {\n",
       "        vertical-align: middle;\n",
       "    }\n",
       "\n",
       "    .dataframe tbody tr th {\n",
       "        vertical-align: top;\n",
       "    }\n",
       "\n",
       "    .dataframe thead th {\n",
       "        text-align: right;\n",
       "    }\n",
       "</style>\n",
       "<table border=\"1\" class=\"dataframe\">\n",
       "  <thead>\n",
       "    <tr style=\"text-align: right;\">\n",
       "      <th></th>\n",
       "      <th>age</th>\n",
       "      <th>workclass</th>\n",
       "      <th>fnlwgt</th>\n",
       "      <th>education</th>\n",
       "      <th>education-num</th>\n",
       "      <th>marital-status</th>\n",
       "      <th>occupation</th>\n",
       "      <th>relationship</th>\n",
       "      <th>race</th>\n",
       "      <th>sex</th>\n",
       "      <th>capital-gain</th>\n",
       "      <th>capital-loss</th>\n",
       "      <th>hours-per-week</th>\n",
       "      <th>native-country</th>\n",
       "      <th>target</th>\n",
       "    </tr>\n",
       "  </thead>\n",
       "  <tbody>\n",
       "    <tr>\n",
       "      <th>0</th>\n",
       "      <td>39</td>\n",
       "      <td>State-gov</td>\n",
       "      <td>77516</td>\n",
       "      <td>Bachelors</td>\n",
       "      <td>13</td>\n",
       "      <td>Never-married</td>\n",
       "      <td>Adm-clerical</td>\n",
       "      <td>Not-in-family</td>\n",
       "      <td>White</td>\n",
       "      <td>Male</td>\n",
       "      <td>2174</td>\n",
       "      <td>0</td>\n",
       "      <td>40</td>\n",
       "      <td>United-States</td>\n",
       "      <td>&lt;=50K</td>\n",
       "    </tr>\n",
       "    <tr>\n",
       "      <th>1</th>\n",
       "      <td>50</td>\n",
       "      <td>Self-emp-not-inc</td>\n",
       "      <td>83311</td>\n",
       "      <td>Bachelors</td>\n",
       "      <td>13</td>\n",
       "      <td>Married-civ-spouse</td>\n",
       "      <td>Exec-managerial</td>\n",
       "      <td>Husband</td>\n",
       "      <td>White</td>\n",
       "      <td>Male</td>\n",
       "      <td>0</td>\n",
       "      <td>0</td>\n",
       "      <td>13</td>\n",
       "      <td>United-States</td>\n",
       "      <td>&lt;=50K</td>\n",
       "    </tr>\n",
       "    <tr>\n",
       "      <th>2</th>\n",
       "      <td>38</td>\n",
       "      <td>Private</td>\n",
       "      <td>215646</td>\n",
       "      <td>HS-grad</td>\n",
       "      <td>9</td>\n",
       "      <td>Divorced</td>\n",
       "      <td>Handlers-cleaners</td>\n",
       "      <td>Not-in-family</td>\n",
       "      <td>White</td>\n",
       "      <td>Male</td>\n",
       "      <td>0</td>\n",
       "      <td>0</td>\n",
       "      <td>40</td>\n",
       "      <td>United-States</td>\n",
       "      <td>&lt;=50K</td>\n",
       "    </tr>\n",
       "    <tr>\n",
       "      <th>3</th>\n",
       "      <td>53</td>\n",
       "      <td>Private</td>\n",
       "      <td>234721</td>\n",
       "      <td>11th</td>\n",
       "      <td>7</td>\n",
       "      <td>Married-civ-spouse</td>\n",
       "      <td>Handlers-cleaners</td>\n",
       "      <td>Husband</td>\n",
       "      <td>Black</td>\n",
       "      <td>Male</td>\n",
       "      <td>0</td>\n",
       "      <td>0</td>\n",
       "      <td>40</td>\n",
       "      <td>United-States</td>\n",
       "      <td>&lt;=50K</td>\n",
       "    </tr>\n",
       "    <tr>\n",
       "      <th>4</th>\n",
       "      <td>28</td>\n",
       "      <td>Private</td>\n",
       "      <td>338409</td>\n",
       "      <td>Bachelors</td>\n",
       "      <td>13</td>\n",
       "      <td>Married-civ-spouse</td>\n",
       "      <td>Prof-specialty</td>\n",
       "      <td>Wife</td>\n",
       "      <td>Black</td>\n",
       "      <td>Female</td>\n",
       "      <td>0</td>\n",
       "      <td>0</td>\n",
       "      <td>40</td>\n",
       "      <td>Cuba</td>\n",
       "      <td>&lt;=50K</td>\n",
       "    </tr>\n",
       "  </tbody>\n",
       "</table>\n",
       "</div>"
      ],
      "text/plain": [
       "   age          workclass  fnlwgt   education  education-num  \\\n",
       "0   39          State-gov   77516   Bachelors             13   \n",
       "1   50   Self-emp-not-inc   83311   Bachelors             13   \n",
       "2   38            Private  215646     HS-grad              9   \n",
       "3   53            Private  234721        11th              7   \n",
       "4   28            Private  338409   Bachelors             13   \n",
       "\n",
       "        marital-status          occupation    relationship    race      sex  \\\n",
       "0        Never-married        Adm-clerical   Not-in-family   White     Male   \n",
       "1   Married-civ-spouse     Exec-managerial         Husband   White     Male   \n",
       "2             Divorced   Handlers-cleaners   Not-in-family   White     Male   \n",
       "3   Married-civ-spouse   Handlers-cleaners         Husband   Black     Male   \n",
       "4   Married-civ-spouse      Prof-specialty            Wife   Black   Female   \n",
       "\n",
       "   capital-gain  capital-loss  hours-per-week  native-country  target  \n",
       "0          2174             0              40   United-States   <=50K  \n",
       "1             0             0              13   United-States   <=50K  \n",
       "2             0             0              40   United-States   <=50K  \n",
       "3             0             0              40   United-States   <=50K  \n",
       "4             0             0              40            Cuba   <=50K  "
      ]
     },
     "execution_count": 3,
     "metadata": {},
     "output_type": "execute_result"
    }
   ],
   "source": [
    "ds.replace(' ?',None,inplace=True)\n",
    "ds.dropna(inplace=True)\n",
    "ds.head()"
   ]
  },
  {
   "cell_type": "code",
   "execution_count": 4,
   "metadata": {},
   "outputs": [
    {
     "name": "stdout",
     "output_type": "stream",
     "text": [
      "<class 'pandas.core.frame.DataFrame'>\n",
      "Index: 30162 entries, 0 to 32560\n",
      "Data columns (total 15 columns):\n",
      " #   Column          Non-Null Count  Dtype \n",
      "---  ------          --------------  ----- \n",
      " 0   age             30162 non-null  int64 \n",
      " 1   workclass       30162 non-null  object\n",
      " 2   fnlwgt          30162 non-null  int64 \n",
      " 3   education       30162 non-null  object\n",
      " 4   education-num   30162 non-null  int64 \n",
      " 5   marital-status  30162 non-null  object\n",
      " 6   occupation      30162 non-null  object\n",
      " 7   relationship    30162 non-null  object\n",
      " 8   race            30162 non-null  object\n",
      " 9   sex             30162 non-null  object\n",
      " 10  capital-gain    30162 non-null  int64 \n",
      " 11  capital-loss    30162 non-null  int64 \n",
      " 12  hours-per-week  30162 non-null  int64 \n",
      " 13  native-country  30162 non-null  object\n",
      " 14  target          30162 non-null  object\n",
      "dtypes: int64(6), object(9)\n",
      "memory usage: 3.7+ MB\n"
     ]
    }
   ],
   "source": [
    "ds.info()"
   ]
  },
  {
   "cell_type": "code",
   "execution_count": 5,
   "metadata": {},
   "outputs": [],
   "source": [
    "#特徵中Object轉換成 int\n",
    "target_names = ds.target.unique()\n",
    "with open('feature_names.csv', 'w', newline='') as csv_f:\n",
    "    writer = csv.writer(csv_f, delimiter=',')\n",
    "    writer.writerow(ds.columns)\n",
    "    for col_ in range(len(ds.columns)):\n",
    "        if ds[ds.columns[col_]].dtype == 'object':\n",
    "            items = ds[ds.columns[col_]].unique()\n",
    "            for i in range(len(items)):\n",
    "                ds[ds.columns[col_]] = ds[ds.columns[col_]].replace(items[i], i)\n",
    "            ds[ds.columns[col_]] = ds[ds.columns[col_]].astype(int)\n",
    "            item2 = items.tolist()\n",
    "            # item2.insert(0, col_)\n",
    "            # item2.insert(1, ds.columns[col_])\n",
    "            writer.writerow(item2)            "
   ]
  },
  {
   "cell_type": "code",
   "execution_count": 6,
   "metadata": {},
   "outputs": [
    {
     "data": {
      "text/html": [
       "<div>\n",
       "<style scoped>\n",
       "    .dataframe tbody tr th:only-of-type {\n",
       "        vertical-align: middle;\n",
       "    }\n",
       "\n",
       "    .dataframe tbody tr th {\n",
       "        vertical-align: top;\n",
       "    }\n",
       "\n",
       "    .dataframe thead th {\n",
       "        text-align: right;\n",
       "    }\n",
       "</style>\n",
       "<table border=\"1\" class=\"dataframe\">\n",
       "  <thead>\n",
       "    <tr style=\"text-align: right;\">\n",
       "      <th></th>\n",
       "      <th>age</th>\n",
       "      <th>workclass</th>\n",
       "      <th>fnlwgt</th>\n",
       "      <th>education</th>\n",
       "      <th>education-num</th>\n",
       "      <th>marital-status</th>\n",
       "      <th>occupation</th>\n",
       "      <th>relationship</th>\n",
       "      <th>race</th>\n",
       "      <th>sex</th>\n",
       "      <th>capital-gain</th>\n",
       "      <th>capital-loss</th>\n",
       "      <th>hours-per-week</th>\n",
       "      <th>native-country</th>\n",
       "      <th>target</th>\n",
       "    </tr>\n",
       "  </thead>\n",
       "  <tbody>\n",
       "    <tr>\n",
       "      <th>0</th>\n",
       "      <td>39</td>\n",
       "      <td>0</td>\n",
       "      <td>77516</td>\n",
       "      <td>0</td>\n",
       "      <td>13</td>\n",
       "      <td>0</td>\n",
       "      <td>0</td>\n",
       "      <td>0</td>\n",
       "      <td>0</td>\n",
       "      <td>0</td>\n",
       "      <td>2174</td>\n",
       "      <td>0</td>\n",
       "      <td>40</td>\n",
       "      <td>0</td>\n",
       "      <td>0</td>\n",
       "    </tr>\n",
       "    <tr>\n",
       "      <th>1</th>\n",
       "      <td>50</td>\n",
       "      <td>1</td>\n",
       "      <td>83311</td>\n",
       "      <td>0</td>\n",
       "      <td>13</td>\n",
       "      <td>1</td>\n",
       "      <td>1</td>\n",
       "      <td>1</td>\n",
       "      <td>0</td>\n",
       "      <td>0</td>\n",
       "      <td>0</td>\n",
       "      <td>0</td>\n",
       "      <td>13</td>\n",
       "      <td>0</td>\n",
       "      <td>0</td>\n",
       "    </tr>\n",
       "    <tr>\n",
       "      <th>2</th>\n",
       "      <td>38</td>\n",
       "      <td>2</td>\n",
       "      <td>215646</td>\n",
       "      <td>1</td>\n",
       "      <td>9</td>\n",
       "      <td>2</td>\n",
       "      <td>2</td>\n",
       "      <td>0</td>\n",
       "      <td>0</td>\n",
       "      <td>0</td>\n",
       "      <td>0</td>\n",
       "      <td>0</td>\n",
       "      <td>40</td>\n",
       "      <td>0</td>\n",
       "      <td>0</td>\n",
       "    </tr>\n",
       "    <tr>\n",
       "      <th>3</th>\n",
       "      <td>53</td>\n",
       "      <td>2</td>\n",
       "      <td>234721</td>\n",
       "      <td>2</td>\n",
       "      <td>7</td>\n",
       "      <td>1</td>\n",
       "      <td>2</td>\n",
       "      <td>1</td>\n",
       "      <td>1</td>\n",
       "      <td>0</td>\n",
       "      <td>0</td>\n",
       "      <td>0</td>\n",
       "      <td>40</td>\n",
       "      <td>0</td>\n",
       "      <td>0</td>\n",
       "    </tr>\n",
       "    <tr>\n",
       "      <th>4</th>\n",
       "      <td>28</td>\n",
       "      <td>2</td>\n",
       "      <td>338409</td>\n",
       "      <td>0</td>\n",
       "      <td>13</td>\n",
       "      <td>1</td>\n",
       "      <td>3</td>\n",
       "      <td>2</td>\n",
       "      <td>1</td>\n",
       "      <td>1</td>\n",
       "      <td>0</td>\n",
       "      <td>0</td>\n",
       "      <td>40</td>\n",
       "      <td>1</td>\n",
       "      <td>0</td>\n",
       "    </tr>\n",
       "    <tr>\n",
       "      <th>...</th>\n",
       "      <td>...</td>\n",
       "      <td>...</td>\n",
       "      <td>...</td>\n",
       "      <td>...</td>\n",
       "      <td>...</td>\n",
       "      <td>...</td>\n",
       "      <td>...</td>\n",
       "      <td>...</td>\n",
       "      <td>...</td>\n",
       "      <td>...</td>\n",
       "      <td>...</td>\n",
       "      <td>...</td>\n",
       "      <td>...</td>\n",
       "      <td>...</td>\n",
       "      <td>...</td>\n",
       "    </tr>\n",
       "    <tr>\n",
       "      <th>32556</th>\n",
       "      <td>27</td>\n",
       "      <td>2</td>\n",
       "      <td>257302</td>\n",
       "      <td>6</td>\n",
       "      <td>12</td>\n",
       "      <td>1</td>\n",
       "      <td>9</td>\n",
       "      <td>2</td>\n",
       "      <td>0</td>\n",
       "      <td>1</td>\n",
       "      <td>0</td>\n",
       "      <td>0</td>\n",
       "      <td>38</td>\n",
       "      <td>0</td>\n",
       "      <td>0</td>\n",
       "    </tr>\n",
       "    <tr>\n",
       "      <th>32557</th>\n",
       "      <td>40</td>\n",
       "      <td>2</td>\n",
       "      <td>154374</td>\n",
       "      <td>1</td>\n",
       "      <td>9</td>\n",
       "      <td>1</td>\n",
       "      <td>8</td>\n",
       "      <td>1</td>\n",
       "      <td>0</td>\n",
       "      <td>0</td>\n",
       "      <td>0</td>\n",
       "      <td>0</td>\n",
       "      <td>40</td>\n",
       "      <td>0</td>\n",
       "      <td>1</td>\n",
       "    </tr>\n",
       "    <tr>\n",
       "      <th>32558</th>\n",
       "      <td>58</td>\n",
       "      <td>2</td>\n",
       "      <td>151910</td>\n",
       "      <td>1</td>\n",
       "      <td>9</td>\n",
       "      <td>6</td>\n",
       "      <td>0</td>\n",
       "      <td>4</td>\n",
       "      <td>0</td>\n",
       "      <td>1</td>\n",
       "      <td>0</td>\n",
       "      <td>0</td>\n",
       "      <td>40</td>\n",
       "      <td>0</td>\n",
       "      <td>0</td>\n",
       "    </tr>\n",
       "    <tr>\n",
       "      <th>32559</th>\n",
       "      <td>22</td>\n",
       "      <td>2</td>\n",
       "      <td>201490</td>\n",
       "      <td>1</td>\n",
       "      <td>9</td>\n",
       "      <td>0</td>\n",
       "      <td>0</td>\n",
       "      <td>3</td>\n",
       "      <td>0</td>\n",
       "      <td>0</td>\n",
       "      <td>0</td>\n",
       "      <td>0</td>\n",
       "      <td>20</td>\n",
       "      <td>0</td>\n",
       "      <td>0</td>\n",
       "    </tr>\n",
       "    <tr>\n",
       "      <th>32560</th>\n",
       "      <td>52</td>\n",
       "      <td>5</td>\n",
       "      <td>287927</td>\n",
       "      <td>1</td>\n",
       "      <td>9</td>\n",
       "      <td>1</td>\n",
       "      <td>1</td>\n",
       "      <td>2</td>\n",
       "      <td>0</td>\n",
       "      <td>1</td>\n",
       "      <td>15024</td>\n",
       "      <td>0</td>\n",
       "      <td>40</td>\n",
       "      <td>0</td>\n",
       "      <td>1</td>\n",
       "    </tr>\n",
       "  </tbody>\n",
       "</table>\n",
       "<p>30162 rows × 15 columns</p>\n",
       "</div>"
      ],
      "text/plain": [
       "       age  workclass  fnlwgt  education  education-num  marital-status  \\\n",
       "0       39          0   77516          0             13               0   \n",
       "1       50          1   83311          0             13               1   \n",
       "2       38          2  215646          1              9               2   \n",
       "3       53          2  234721          2              7               1   \n",
       "4       28          2  338409          0             13               1   \n",
       "...    ...        ...     ...        ...            ...             ...   \n",
       "32556   27          2  257302          6             12               1   \n",
       "32557   40          2  154374          1              9               1   \n",
       "32558   58          2  151910          1              9               6   \n",
       "32559   22          2  201490          1              9               0   \n",
       "32560   52          5  287927          1              9               1   \n",
       "\n",
       "       occupation  relationship  race  sex  capital-gain  capital-loss  \\\n",
       "0               0             0     0    0          2174             0   \n",
       "1               1             1     0    0             0             0   \n",
       "2               2             0     0    0             0             0   \n",
       "3               2             1     1    0             0             0   \n",
       "4               3             2     1    1             0             0   \n",
       "...           ...           ...   ...  ...           ...           ...   \n",
       "32556           9             2     0    1             0             0   \n",
       "32557           8             1     0    0             0             0   \n",
       "32558           0             4     0    1             0             0   \n",
       "32559           0             3     0    0             0             0   \n",
       "32560           1             2     0    1         15024             0   \n",
       "\n",
       "       hours-per-week  native-country  target  \n",
       "0                  40               0       0  \n",
       "1                  13               0       0  \n",
       "2                  40               0       0  \n",
       "3                  40               0       0  \n",
       "4                  40               1       0  \n",
       "...               ...             ...     ...  \n",
       "32556              38               0       0  \n",
       "32557              40               0       1  \n",
       "32558              40               0       0  \n",
       "32559              20               0       0  \n",
       "32560              40               0       1  \n",
       "\n",
       "[30162 rows x 15 columns]"
      ]
     },
     "execution_count": 6,
     "metadata": {},
     "output_type": "execute_result"
    }
   ],
   "source": [
    "ds"
   ]
  },
  {
   "cell_type": "code",
   "execution_count": 7,
   "metadata": {},
   "outputs": [
    {
     "data": {
      "text/html": [
       "<div>\n",
       "<style scoped>\n",
       "    .dataframe tbody tr th:only-of-type {\n",
       "        vertical-align: middle;\n",
       "    }\n",
       "\n",
       "    .dataframe tbody tr th {\n",
       "        vertical-align: top;\n",
       "    }\n",
       "\n",
       "    .dataframe thead th {\n",
       "        text-align: right;\n",
       "    }\n",
       "</style>\n",
       "<table border=\"1\" class=\"dataframe\">\n",
       "  <thead>\n",
       "    <tr style=\"text-align: right;\">\n",
       "      <th></th>\n",
       "      <th>age</th>\n",
       "      <th>workclass</th>\n",
       "      <th>fnlwgt</th>\n",
       "      <th>education</th>\n",
       "      <th>education-num</th>\n",
       "      <th>marital-status</th>\n",
       "      <th>occupation</th>\n",
       "      <th>relationship</th>\n",
       "      <th>race</th>\n",
       "      <th>sex</th>\n",
       "      <th>capital-gain</th>\n",
       "      <th>capital-loss</th>\n",
       "      <th>hours-per-week</th>\n",
       "      <th>native-country</th>\n",
       "      <th>target</th>\n",
       "    </tr>\n",
       "  </thead>\n",
       "  <tbody>\n",
       "    <tr>\n",
       "      <th>age</th>\n",
       "      <td>1.000000</td>\n",
       "      <td>0.064147</td>\n",
       "      <td>-0.076511</td>\n",
       "      <td>0.009060</td>\n",
       "      <td>0.043526</td>\n",
       "      <td>0.412606</td>\n",
       "      <td>0.002072</td>\n",
       "      <td>-0.198226</td>\n",
       "      <td>-0.035019</td>\n",
       "      <td>-0.081993</td>\n",
       "      <td>0.080154</td>\n",
       "      <td>0.060165</td>\n",
       "      <td>0.101599</td>\n",
       "      <td>-0.005066</td>\n",
       "      <td>0.241998</td>\n",
       "    </tr>\n",
       "    <tr>\n",
       "      <th>workclass</th>\n",
       "      <td>0.064147</td>\n",
       "      <td>1.000000</td>\n",
       "      <td>-0.001827</td>\n",
       "      <td>-0.022917</td>\n",
       "      <td>0.062729</td>\n",
       "      <td>0.025007</td>\n",
       "      <td>-0.046620</td>\n",
       "      <td>-0.007209</td>\n",
       "      <td>0.001414</td>\n",
       "      <td>-0.005652</td>\n",
       "      <td>0.046010</td>\n",
       "      <td>0.023528</td>\n",
       "      <td>0.063884</td>\n",
       "      <td>-0.012075</td>\n",
       "      <td>0.095157</td>\n",
       "    </tr>\n",
       "    <tr>\n",
       "      <th>fnlwgt</th>\n",
       "      <td>-0.076511</td>\n",
       "      <td>-0.001827</td>\n",
       "      <td>1.000000</td>\n",
       "      <td>0.025402</td>\n",
       "      <td>-0.044992</td>\n",
       "      <td>-0.021061</td>\n",
       "      <td>0.013240</td>\n",
       "      <td>0.016246</td>\n",
       "      <td>0.002060</td>\n",
       "      <td>-0.025362</td>\n",
       "      <td>0.000422</td>\n",
       "      <td>-0.009750</td>\n",
       "      <td>-0.022886</td>\n",
       "      <td>0.030210</td>\n",
       "      <td>-0.008957</td>\n",
       "    </tr>\n",
       "    <tr>\n",
       "      <th>education</th>\n",
       "      <td>0.009060</td>\n",
       "      <td>-0.022917</td>\n",
       "      <td>0.025402</td>\n",
       "      <td>1.000000</td>\n",
       "      <td>-0.254629</td>\n",
       "      <td>0.013035</td>\n",
       "      <td>0.056654</td>\n",
       "      <td>0.039866</td>\n",
       "      <td>0.028908</td>\n",
       "      <td>0.001781</td>\n",
       "      <td>0.024717</td>\n",
       "      <td>-0.003042</td>\n",
       "      <td>-0.046899</td>\n",
       "      <td>0.060493</td>\n",
       "      <td>-0.042527</td>\n",
       "    </tr>\n",
       "    <tr>\n",
       "      <th>education-num</th>\n",
       "      <td>0.043526</td>\n",
       "      <td>0.062729</td>\n",
       "      <td>-0.044992</td>\n",
       "      <td>-0.254629</td>\n",
       "      <td>1.000000</td>\n",
       "      <td>-0.061656</td>\n",
       "      <td>-0.254908</td>\n",
       "      <td>-0.142719</td>\n",
       "      <td>-0.043076</td>\n",
       "      <td>-0.006157</td>\n",
       "      <td>0.124416</td>\n",
       "      <td>0.079646</td>\n",
       "      <td>0.152522</td>\n",
       "      <td>-0.063337</td>\n",
       "      <td>0.335286</td>\n",
       "    </tr>\n",
       "    <tr>\n",
       "      <th>marital-status</th>\n",
       "      <td>0.412606</td>\n",
       "      <td>0.025007</td>\n",
       "      <td>-0.021061</td>\n",
       "      <td>0.013035</td>\n",
       "      <td>-0.061656</td>\n",
       "      <td>1.000000</td>\n",
       "      <td>-0.011716</td>\n",
       "      <td>0.049913</td>\n",
       "      <td>0.017226</td>\n",
       "      <td>0.178045</td>\n",
       "      <td>0.005618</td>\n",
       "      <td>0.006925</td>\n",
       "      <td>0.017179</td>\n",
       "      <td>0.003796</td>\n",
       "      <td>0.007459</td>\n",
       "    </tr>\n",
       "    <tr>\n",
       "      <th>occupation</th>\n",
       "      <td>0.002072</td>\n",
       "      <td>-0.046620</td>\n",
       "      <td>0.013240</td>\n",
       "      <td>0.056654</td>\n",
       "      <td>-0.254908</td>\n",
       "      <td>-0.011716</td>\n",
       "      <td>1.000000</td>\n",
       "      <td>-0.066185</td>\n",
       "      <td>-0.009103</td>\n",
       "      <td>-0.263619</td>\n",
       "      <td>-0.042283</td>\n",
       "      <td>-0.015952</td>\n",
       "      <td>0.045238</td>\n",
       "      <td>0.018083</td>\n",
       "      <td>-0.070240</td>\n",
       "    </tr>\n",
       "    <tr>\n",
       "      <th>relationship</th>\n",
       "      <td>-0.198226</td>\n",
       "      <td>-0.007209</td>\n",
       "      <td>0.016246</td>\n",
       "      <td>0.039866</td>\n",
       "      <td>-0.142719</td>\n",
       "      <td>0.049913</td>\n",
       "      <td>-0.066185</td>\n",
       "      <td>1.000000</td>\n",
       "      <td>0.099665</td>\n",
       "      <td>0.275419</td>\n",
       "      <td>-0.043716</td>\n",
       "      <td>-0.050718</td>\n",
       "      <td>-0.194521</td>\n",
       "      <td>0.043329</td>\n",
       "      <td>-0.168993</td>\n",
       "    </tr>\n",
       "    <tr>\n",
       "      <th>race</th>\n",
       "      <td>-0.035019</td>\n",
       "      <td>0.001414</td>\n",
       "      <td>0.002060</td>\n",
       "      <td>0.028908</td>\n",
       "      <td>-0.043076</td>\n",
       "      <td>0.017226</td>\n",
       "      <td>-0.009103</td>\n",
       "      <td>0.099665</td>\n",
       "      <td>1.000000</td>\n",
       "      <td>0.067529</td>\n",
       "      <td>-0.010174</td>\n",
       "      <td>-0.021910</td>\n",
       "      <td>-0.037586</td>\n",
       "      <td>0.255060</td>\n",
       "      <td>-0.067903</td>\n",
       "    </tr>\n",
       "    <tr>\n",
       "      <th>sex</th>\n",
       "      <td>-0.081993</td>\n",
       "      <td>-0.005652</td>\n",
       "      <td>-0.025362</td>\n",
       "      <td>0.001781</td>\n",
       "      <td>-0.006157</td>\n",
       "      <td>0.178045</td>\n",
       "      <td>-0.263619</td>\n",
       "      <td>0.275419</td>\n",
       "      <td>0.067529</td>\n",
       "      <td>1.000000</td>\n",
       "      <td>-0.048814</td>\n",
       "      <td>-0.047011</td>\n",
       "      <td>-0.231268</td>\n",
       "      <td>0.006269</td>\n",
       "      <td>-0.216699</td>\n",
       "    </tr>\n",
       "    <tr>\n",
       "      <th>capital-gain</th>\n",
       "      <td>0.080154</td>\n",
       "      <td>0.046010</td>\n",
       "      <td>0.000422</td>\n",
       "      <td>0.024717</td>\n",
       "      <td>0.124416</td>\n",
       "      <td>0.005618</td>\n",
       "      <td>-0.042283</td>\n",
       "      <td>-0.043716</td>\n",
       "      <td>-0.010174</td>\n",
       "      <td>-0.048814</td>\n",
       "      <td>1.000000</td>\n",
       "      <td>-0.032229</td>\n",
       "      <td>0.080432</td>\n",
       "      <td>-0.010744</td>\n",
       "      <td>0.221196</td>\n",
       "    </tr>\n",
       "    <tr>\n",
       "      <th>capital-loss</th>\n",
       "      <td>0.060165</td>\n",
       "      <td>0.023528</td>\n",
       "      <td>-0.009750</td>\n",
       "      <td>-0.003042</td>\n",
       "      <td>0.079646</td>\n",
       "      <td>0.006925</td>\n",
       "      <td>-0.015952</td>\n",
       "      <td>-0.050718</td>\n",
       "      <td>-0.021910</td>\n",
       "      <td>-0.047011</td>\n",
       "      <td>-0.032229</td>\n",
       "      <td>1.000000</td>\n",
       "      <td>0.052417</td>\n",
       "      <td>-0.003800</td>\n",
       "      <td>0.150053</td>\n",
       "    </tr>\n",
       "    <tr>\n",
       "      <th>hours-per-week</th>\n",
       "      <td>0.101599</td>\n",
       "      <td>0.063884</td>\n",
       "      <td>-0.022886</td>\n",
       "      <td>-0.046899</td>\n",
       "      <td>0.152522</td>\n",
       "      <td>0.017179</td>\n",
       "      <td>0.045238</td>\n",
       "      <td>-0.194521</td>\n",
       "      <td>-0.037586</td>\n",
       "      <td>-0.231268</td>\n",
       "      <td>0.080432</td>\n",
       "      <td>0.052417</td>\n",
       "      <td>1.000000</td>\n",
       "      <td>-0.008613</td>\n",
       "      <td>0.229480</td>\n",
       "    </tr>\n",
       "    <tr>\n",
       "      <th>native-country</th>\n",
       "      <td>-0.005066</td>\n",
       "      <td>-0.012075</td>\n",
       "      <td>0.030210</td>\n",
       "      <td>0.060493</td>\n",
       "      <td>-0.063337</td>\n",
       "      <td>0.003796</td>\n",
       "      <td>0.018083</td>\n",
       "      <td>0.043329</td>\n",
       "      <td>0.255060</td>\n",
       "      <td>0.006269</td>\n",
       "      <td>-0.010744</td>\n",
       "      <td>-0.003800</td>\n",
       "      <td>-0.008613</td>\n",
       "      <td>1.000000</td>\n",
       "      <td>-0.027075</td>\n",
       "    </tr>\n",
       "    <tr>\n",
       "      <th>target</th>\n",
       "      <td>0.241998</td>\n",
       "      <td>0.095157</td>\n",
       "      <td>-0.008957</td>\n",
       "      <td>-0.042527</td>\n",
       "      <td>0.335286</td>\n",
       "      <td>0.007459</td>\n",
       "      <td>-0.070240</td>\n",
       "      <td>-0.168993</td>\n",
       "      <td>-0.067903</td>\n",
       "      <td>-0.216699</td>\n",
       "      <td>0.221196</td>\n",
       "      <td>0.150053</td>\n",
       "      <td>0.229480</td>\n",
       "      <td>-0.027075</td>\n",
       "      <td>1.000000</td>\n",
       "    </tr>\n",
       "  </tbody>\n",
       "</table>\n",
       "</div>"
      ],
      "text/plain": [
       "                     age  workclass    fnlwgt  education  education-num  \\\n",
       "age             1.000000   0.064147 -0.076511   0.009060       0.043526   \n",
       "workclass       0.064147   1.000000 -0.001827  -0.022917       0.062729   \n",
       "fnlwgt         -0.076511  -0.001827  1.000000   0.025402      -0.044992   \n",
       "education       0.009060  -0.022917  0.025402   1.000000      -0.254629   \n",
       "education-num   0.043526   0.062729 -0.044992  -0.254629       1.000000   \n",
       "marital-status  0.412606   0.025007 -0.021061   0.013035      -0.061656   \n",
       "occupation      0.002072  -0.046620  0.013240   0.056654      -0.254908   \n",
       "relationship   -0.198226  -0.007209  0.016246   0.039866      -0.142719   \n",
       "race           -0.035019   0.001414  0.002060   0.028908      -0.043076   \n",
       "sex            -0.081993  -0.005652 -0.025362   0.001781      -0.006157   \n",
       "capital-gain    0.080154   0.046010  0.000422   0.024717       0.124416   \n",
       "capital-loss    0.060165   0.023528 -0.009750  -0.003042       0.079646   \n",
       "hours-per-week  0.101599   0.063884 -0.022886  -0.046899       0.152522   \n",
       "native-country -0.005066  -0.012075  0.030210   0.060493      -0.063337   \n",
       "target          0.241998   0.095157 -0.008957  -0.042527       0.335286   \n",
       "\n",
       "                marital-status  occupation  relationship      race       sex  \\\n",
       "age                   0.412606    0.002072     -0.198226 -0.035019 -0.081993   \n",
       "workclass             0.025007   -0.046620     -0.007209  0.001414 -0.005652   \n",
       "fnlwgt               -0.021061    0.013240      0.016246  0.002060 -0.025362   \n",
       "education             0.013035    0.056654      0.039866  0.028908  0.001781   \n",
       "education-num        -0.061656   -0.254908     -0.142719 -0.043076 -0.006157   \n",
       "marital-status        1.000000   -0.011716      0.049913  0.017226  0.178045   \n",
       "occupation           -0.011716    1.000000     -0.066185 -0.009103 -0.263619   \n",
       "relationship          0.049913   -0.066185      1.000000  0.099665  0.275419   \n",
       "race                  0.017226   -0.009103      0.099665  1.000000  0.067529   \n",
       "sex                   0.178045   -0.263619      0.275419  0.067529  1.000000   \n",
       "capital-gain          0.005618   -0.042283     -0.043716 -0.010174 -0.048814   \n",
       "capital-loss          0.006925   -0.015952     -0.050718 -0.021910 -0.047011   \n",
       "hours-per-week        0.017179    0.045238     -0.194521 -0.037586 -0.231268   \n",
       "native-country        0.003796    0.018083      0.043329  0.255060  0.006269   \n",
       "target                0.007459   -0.070240     -0.168993 -0.067903 -0.216699   \n",
       "\n",
       "                capital-gain  capital-loss  hours-per-week  native-country  \\\n",
       "age                 0.080154      0.060165        0.101599       -0.005066   \n",
       "workclass           0.046010      0.023528        0.063884       -0.012075   \n",
       "fnlwgt              0.000422     -0.009750       -0.022886        0.030210   \n",
       "education           0.024717     -0.003042       -0.046899        0.060493   \n",
       "education-num       0.124416      0.079646        0.152522       -0.063337   \n",
       "marital-status      0.005618      0.006925        0.017179        0.003796   \n",
       "occupation         -0.042283     -0.015952        0.045238        0.018083   \n",
       "relationship       -0.043716     -0.050718       -0.194521        0.043329   \n",
       "race               -0.010174     -0.021910       -0.037586        0.255060   \n",
       "sex                -0.048814     -0.047011       -0.231268        0.006269   \n",
       "capital-gain        1.000000     -0.032229        0.080432       -0.010744   \n",
       "capital-loss       -0.032229      1.000000        0.052417       -0.003800   \n",
       "hours-per-week      0.080432      0.052417        1.000000       -0.008613   \n",
       "native-country     -0.010744     -0.003800       -0.008613        1.000000   \n",
       "target              0.221196      0.150053        0.229480       -0.027075   \n",
       "\n",
       "                  target  \n",
       "age             0.241998  \n",
       "workclass       0.095157  \n",
       "fnlwgt         -0.008957  \n",
       "education      -0.042527  \n",
       "education-num   0.335286  \n",
       "marital-status  0.007459  \n",
       "occupation     -0.070240  \n",
       "relationship   -0.168993  \n",
       "race           -0.067903  \n",
       "sex            -0.216699  \n",
       "capital-gain    0.221196  \n",
       "capital-loss    0.150053  \n",
       "hours-per-week  0.229480  \n",
       "native-country -0.027075  \n",
       "target          1.000000  "
      ]
     },
     "execution_count": 7,
     "metadata": {},
     "output_type": "execute_result"
    }
   ],
   "source": [
    "ds.corr()"
   ]
  },
  {
   "cell_type": "code",
   "execution_count": 8,
   "metadata": {},
   "outputs": [
    {
     "name": "stdout",
     "output_type": "stream",
     "text": [
      "<class 'pandas.core.frame.DataFrame'>\n",
      "Index: 30162 entries, 0 to 32560\n",
      "Data columns (total 15 columns):\n",
      " #   Column          Non-Null Count  Dtype\n",
      "---  ------          --------------  -----\n",
      " 0   age             30162 non-null  int64\n",
      " 1   workclass       30162 non-null  int32\n",
      " 2   fnlwgt          30162 non-null  int64\n",
      " 3   education       30162 non-null  int32\n",
      " 4   education-num   30162 non-null  int64\n",
      " 5   marital-status  30162 non-null  int32\n",
      " 6   occupation      30162 non-null  int32\n",
      " 7   relationship    30162 non-null  int32\n",
      " 8   race            30162 non-null  int32\n",
      " 9   sex             30162 non-null  int32\n",
      " 10  capital-gain    30162 non-null  int64\n",
      " 11  capital-loss    30162 non-null  int64\n",
      " 12  hours-per-week  30162 non-null  int64\n",
      " 13  native-country  30162 non-null  int32\n",
      " 14  target          30162 non-null  int32\n",
      "dtypes: int32(9), int64(6)\n",
      "memory usage: 2.6 MB\n"
     ]
    }
   ],
   "source": [
    "ds.info()"
   ]
  },
  {
   "cell_type": "code",
   "execution_count": 10,
   "metadata": {},
   "outputs": [
    {
     "data": {
      "text/plain": [
       "array([[<Axes: title={'center': 'age'}>,\n",
       "        <Axes: title={'center': 'workclass'}>,\n",
       "        <Axes: title={'center': 'fnlwgt'}>,\n",
       "        <Axes: title={'center': 'education'}>],\n",
       "       [<Axes: title={'center': 'education-num'}>,\n",
       "        <Axes: title={'center': 'marital-status'}>,\n",
       "        <Axes: title={'center': 'occupation'}>,\n",
       "        <Axes: title={'center': 'relationship'}>],\n",
       "       [<Axes: title={'center': 'race'}>,\n",
       "        <Axes: title={'center': 'sex'}>,\n",
       "        <Axes: title={'center': 'capital-gain'}>,\n",
       "        <Axes: title={'center': 'capital-loss'}>],\n",
       "       [<Axes: title={'center': 'hours-per-week'}>,\n",
       "        <Axes: title={'center': 'native-country'}>,\n",
       "        <Axes: title={'center': 'target'}>, <Axes: >]], dtype=object)"
      ]
     },
     "execution_count": 10,
     "metadata": {},
     "output_type": "execute_result"
    },
    {
     "data": {
      "image/png": "[encoded data removed]",
      "text/plain": [
       "<Figure size 1000x1000 with 16 Axes>"
      ]
     },
     "metadata": {},
     "output_type": "display_data"
    }
   ],
   "source": [
    "ds.hist(bins=10,figsize=(10,10))"
   ]
  },
  {
   "cell_type": "code",
   "execution_count": 31,
   "metadata": {},
   "outputs": [],
   "source": [
    "y = ds.target\n",
    "X = ds.iloc[:, :-1]"
   ]
  },
  {
   "cell_type": "code",
   "execution_count": 253,
   "metadata": {},
   "outputs": [
    {
     "name": "stdout",
     "output_type": "stream",
     "text": [
      "       age  workclass  fnlwgt  education  education-num  marital-status  \\\n",
      "0       39          0   77516          0             13               0   \n",
      "1       50          1   83311          0             13               1   \n",
      "2       38          2  215646          1              9               2   \n",
      "3       53          2  234721          2              7               1   \n",
      "4       28          2  338409          0             13               1   \n",
      "...    ...        ...     ...        ...            ...             ...   \n",
      "32556   27          2  257302          6             12               1   \n",
      "32557   40          2  154374          1              9               1   \n",
      "32558   58          2  151910          1              9               6   \n",
      "32559   22          2  201490          1              9               0   \n",
      "32560   52          5  287927          1              9               1   \n",
      "\n",
      "       occupation  relationship  race  sex  capital-gain  capital-loss  \\\n",
      "0               0             0     0    0          2174             0   \n",
      "1               1             1     0    0             0             0   \n",
      "2               2             0     0    0             0             0   \n",
      "3               2             1     1    0             0             0   \n",
      "4               3             2     1    1             0             0   \n",
      "...           ...           ...   ...  ...           ...           ...   \n",
      "32556           9             2     0    1             0             0   \n",
      "32557           8             1     0    0             0             0   \n",
      "32558           0             4     0    1             0             0   \n",
      "32559           0             3     0    0             0             0   \n",
      "32560           1             2     0    1         15024             0   \n",
      "\n",
      "       hours-per-week  native-country  \n",
      "0                  40               0  \n",
      "1                  13               0  \n",
      "2                  40               0  \n",
      "3                  40               0  \n",
      "4                  40               1  \n",
      "...               ...             ...  \n",
      "32556              38               0  \n",
      "32557              40               0  \n",
      "32558              40               0  \n",
      "32559              20               0  \n",
      "32560              40               0  \n",
      "\n",
      "[30162 rows x 14 columns]\n"
     ]
    }
   ],
   "source": [
    "print(X)"
   ]
  },
  {
   "cell_type": "code",
   "execution_count": 32,
   "metadata": {
    "scrolled": true
   },
   "outputs": [
    {
     "data": {
      "text/html": [
       "<div>\n",
       "<style scoped>\n",
       "    .dataframe tbody tr th:only-of-type {\n",
       "        vertical-align: middle;\n",
       "    }\n",
       "\n",
       "    .dataframe tbody tr th {\n",
       "        vertical-align: top;\n",
       "    }\n",
       "\n",
       "    .dataframe thead th {\n",
       "        text-align: right;\n",
       "    }\n",
       "</style>\n",
       "<table border=\"1\" class=\"dataframe\">\n",
       "  <thead>\n",
       "    <tr style=\"text-align: right;\">\n",
       "      <th></th>\n",
       "      <th>age</th>\n",
       "      <th>workclass</th>\n",
       "      <th>fnlwgt</th>\n",
       "      <th>education</th>\n",
       "      <th>education-num</th>\n",
       "      <th>marital-status</th>\n",
       "      <th>occupation</th>\n",
       "      <th>relationship</th>\n",
       "      <th>race</th>\n",
       "      <th>sex</th>\n",
       "      <th>capital-gain</th>\n",
       "      <th>capital-loss</th>\n",
       "      <th>hours-per-week</th>\n",
       "      <th>native-country</th>\n",
       "      <th>target</th>\n",
       "    </tr>\n",
       "  </thead>\n",
       "  <tbody>\n",
       "    <tr>\n",
       "      <th>count</th>\n",
       "      <td>30162.000000</td>\n",
       "      <td>30162.000000</td>\n",
       "      <td>3.016200e+04</td>\n",
       "      <td>30162.000000</td>\n",
       "      <td>30162.000000</td>\n",
       "      <td>30162.000000</td>\n",
       "      <td>30162.000000</td>\n",
       "      <td>30162.000000</td>\n",
       "      <td>30162.000000</td>\n",
       "      <td>30162.000000</td>\n",
       "      <td>30162.000000</td>\n",
       "      <td>30162.000000</td>\n",
       "      <td>30162.000000</td>\n",
       "      <td>30162.000000</td>\n",
       "      <td>30162.000000</td>\n",
       "    </tr>\n",
       "    <tr>\n",
       "      <th>mean</th>\n",
       "      <td>38.437902</td>\n",
       "      <td>2.109343</td>\n",
       "      <td>1.897938e+05</td>\n",
       "      <td>3.424607</td>\n",
       "      <td>10.121312</td>\n",
       "      <td>1.075061</td>\n",
       "      <td>4.615609</td>\n",
       "      <td>1.523971</td>\n",
       "      <td>0.211823</td>\n",
       "      <td>0.324315</td>\n",
       "      <td>1092.007858</td>\n",
       "      <td>88.372489</td>\n",
       "      <td>40.931238</td>\n",
       "      <td>1.183509</td>\n",
       "      <td>0.248922</td>\n",
       "    </tr>\n",
       "    <tr>\n",
       "      <th>std</th>\n",
       "      <td>13.134665</td>\n",
       "      <td>0.934785</td>\n",
       "      <td>1.056530e+05</td>\n",
       "      <td>3.479777</td>\n",
       "      <td>2.549995</td>\n",
       "      <td>1.217557</td>\n",
       "      <td>3.432195</td>\n",
       "      <td>1.431980</td>\n",
       "      <td>0.612461</td>\n",
       "      <td>0.468126</td>\n",
       "      <td>7406.346497</td>\n",
       "      <td>404.298370</td>\n",
       "      <td>11.979984</td>\n",
       "      <td>4.947070</td>\n",
       "      <td>0.432396</td>\n",
       "    </tr>\n",
       "    <tr>\n",
       "      <th>min</th>\n",
       "      <td>17.000000</td>\n",
       "      <td>0.000000</td>\n",
       "      <td>1.376900e+04</td>\n",
       "      <td>0.000000</td>\n",
       "      <td>1.000000</td>\n",
       "      <td>0.000000</td>\n",
       "      <td>0.000000</td>\n",
       "      <td>0.000000</td>\n",
       "      <td>0.000000</td>\n",
       "      <td>0.000000</td>\n",
       "      <td>0.000000</td>\n",
       "      <td>0.000000</td>\n",
       "      <td>1.000000</td>\n",
       "      <td>0.000000</td>\n",
       "      <td>0.000000</td>\n",
       "    </tr>\n",
       "    <tr>\n",
       "      <th>25%</th>\n",
       "      <td>28.000000</td>\n",
       "      <td>2.000000</td>\n",
       "      <td>1.176272e+05</td>\n",
       "      <td>1.000000</td>\n",
       "      <td>9.000000</td>\n",
       "      <td>0.000000</td>\n",
       "      <td>1.000000</td>\n",
       "      <td>0.000000</td>\n",
       "      <td>0.000000</td>\n",
       "      <td>0.000000</td>\n",
       "      <td>0.000000</td>\n",
       "      <td>0.000000</td>\n",
       "      <td>40.000000</td>\n",
       "      <td>0.000000</td>\n",
       "      <td>0.000000</td>\n",
       "    </tr>\n",
       "    <tr>\n",
       "      <th>50%</th>\n",
       "      <td>37.000000</td>\n",
       "      <td>2.000000</td>\n",
       "      <td>1.784250e+05</td>\n",
       "      <td>2.000000</td>\n",
       "      <td>10.000000</td>\n",
       "      <td>1.000000</td>\n",
       "      <td>4.000000</td>\n",
       "      <td>1.000000</td>\n",
       "      <td>0.000000</td>\n",
       "      <td>0.000000</td>\n",
       "      <td>0.000000</td>\n",
       "      <td>0.000000</td>\n",
       "      <td>40.000000</td>\n",
       "      <td>0.000000</td>\n",
       "      <td>0.000000</td>\n",
       "    </tr>\n",
       "    <tr>\n",
       "      <th>75%</th>\n",
       "      <td>47.000000</td>\n",
       "      <td>2.000000</td>\n",
       "      <td>2.376285e+05</td>\n",
       "      <td>5.000000</td>\n",
       "      <td>13.000000</td>\n",
       "      <td>1.000000</td>\n",
       "      <td>8.000000</td>\n",
       "      <td>3.000000</td>\n",
       "      <td>0.000000</td>\n",
       "      <td>1.000000</td>\n",
       "      <td>0.000000</td>\n",
       "      <td>0.000000</td>\n",
       "      <td>45.000000</td>\n",
       "      <td>0.000000</td>\n",
       "      <td>0.000000</td>\n",
       "    </tr>\n",
       "    <tr>\n",
       "      <th>max</th>\n",
       "      <td>90.000000</td>\n",
       "      <td>6.000000</td>\n",
       "      <td>1.484705e+06</td>\n",
       "      <td>15.000000</td>\n",
       "      <td>16.000000</td>\n",
       "      <td>6.000000</td>\n",
       "      <td>13.000000</td>\n",
       "      <td>5.000000</td>\n",
       "      <td>4.000000</td>\n",
       "      <td>1.000000</td>\n",
       "      <td>99999.000000</td>\n",
       "      <td>4356.000000</td>\n",
       "      <td>99.000000</td>\n",
       "      <td>40.000000</td>\n",
       "      <td>1.000000</td>\n",
       "    </tr>\n",
       "  </tbody>\n",
       "</table>\n",
       "</div>"
      ],
      "text/plain": [
       "                age     workclass        fnlwgt     education  education-num  \\\n",
       "count  30162.000000  30162.000000  3.016200e+04  30162.000000   30162.000000   \n",
       "mean      38.437902      2.109343  1.897938e+05      3.424607      10.121312   \n",
       "std       13.134665      0.934785  1.056530e+05      3.479777       2.549995   \n",
       "min       17.000000      0.000000  1.376900e+04      0.000000       1.000000   \n",
       "25%       28.000000      2.000000  1.176272e+05      1.000000       9.000000   \n",
       "50%       37.000000      2.000000  1.784250e+05      2.000000      10.000000   \n",
       "75%       47.000000      2.000000  2.376285e+05      5.000000      13.000000   \n",
       "max       90.000000      6.000000  1.484705e+06     15.000000      16.000000   \n",
       "\n",
       "       marital-status    occupation  relationship          race           sex  \\\n",
       "count    30162.000000  30162.000000  30162.000000  30162.000000  30162.000000   \n",
       "mean         1.075061      4.615609      1.523971      0.211823      0.324315   \n",
       "std          1.217557      3.432195      1.431980      0.612461      0.468126   \n",
       "min          0.000000      0.000000      0.000000      0.000000      0.000000   \n",
       "25%          0.000000      1.000000      0.000000      0.000000      0.000000   \n",
       "50%          1.000000      4.000000      1.000000      0.000000      0.000000   \n",
       "75%          1.000000      8.000000      3.000000      0.000000      1.000000   \n",
       "max          6.000000     13.000000      5.000000      4.000000      1.000000   \n",
       "\n",
       "       capital-gain  capital-loss  hours-per-week  native-country  \\\n",
       "count  30162.000000  30162.000000    30162.000000    30162.000000   \n",
       "mean    1092.007858     88.372489       40.931238        1.183509   \n",
       "std     7406.346497    404.298370       11.979984        4.947070   \n",
       "min        0.000000      0.000000        1.000000        0.000000   \n",
       "25%        0.000000      0.000000       40.000000        0.000000   \n",
       "50%        0.000000      0.000000       40.000000        0.000000   \n",
       "75%        0.000000      0.000000       45.000000        0.000000   \n",
       "max    99999.000000   4356.000000       99.000000       40.000000   \n",
       "\n",
       "             target  \n",
       "count  30162.000000  \n",
       "mean       0.248922  \n",
       "std        0.432396  \n",
       "min        0.000000  \n",
       "25%        0.000000  \n",
       "50%        0.000000  \n",
       "75%        0.000000  \n",
       "max        1.000000  "
      ]
     },
     "execution_count": 32,
     "metadata": {},
     "output_type": "execute_result"
    }
   ],
   "source": [
    "# 描述統計量\n",
    "ds.describe()"
   ]
  },
  {
   "cell_type": "code",
   "execution_count": 34,
   "metadata": {
    "scrolled": true
   },
   "outputs": [
    {
     "data": {
      "text/plain": [
       "<Axes: >"
      ]
     },
     "execution_count": 34,
     "metadata": {},
     "output_type": "execute_result"
    },
    {
     "data": {
      "image/png": "[encoded data removed]",
      "text/plain": [
       "<Figure size 640x480 with 1 Axes>"
      ]
     },
     "metadata": {},
     "output_type": "display_data"
    }
   ],
   "source": [
    "# 箱型圖\n",
    "import seaborn as sns\n",
    "sns.boxplot(data=ds,orient='h')"
   ]
  },
  {
   "cell_type": "code",
   "execution_count": 35,
   "metadata": {
    "scrolled": true
   },
   "outputs": [
    {
     "data": {
      "text/plain": [
       "age               0\n",
       "workclass         0\n",
       "fnlwgt            0\n",
       "education         0\n",
       "education-num     0\n",
       "marital-status    0\n",
       "occupation        0\n",
       "relationship      0\n",
       "race              0\n",
       "sex               0\n",
       "capital-gain      0\n",
       "capital-loss      0\n",
       "hours-per-week    0\n",
       "native-country    0\n",
       "target            0\n",
       "dtype: int64"
      ]
     },
     "execution_count": 35,
     "metadata": {},
     "output_type": "execute_result"
    }
   ],
   "source": [
    "# 是否有含遺失值(Missing value)\n",
    "ds.isnull().sum()"
   ]
  },
  {
   "cell_type": "markdown",
   "metadata": {},
   "source": [
    "## 繪圖"
   ]
  },
  {
   "cell_type": "code",
   "execution_count": 36,
   "metadata": {
    "scrolled": false
   },
   "outputs": [
    {
     "data": {
      "text/plain": [
       "<Axes: xlabel='target', ylabel='count'>"
      ]
     },
     "execution_count": 36,
     "metadata": {},
     "output_type": "execute_result"
    },
    {
     "data": {
      "image/png": "[encoded data removed]",
      "text/plain": [
       "<Figure size 640x480 with 1 Axes>"
      ]
     },
     "metadata": {},
     "output_type": "display_data"
    }
   ],
   "source": [
    "# y 各類別資料筆數統計\n",
    "import seaborn as sns\n",
    "sns.countplot(x=y)"
   ]
  },
  {
   "cell_type": "code",
   "execution_count": 37,
   "metadata": {
    "scrolled": true
   },
   "outputs": [
    {
     "data": {
      "text/plain": [
       "target\n",
       "0    22654\n",
       "1     7508\n",
       "Name: count, dtype: int64"
      ]
     },
     "execution_count": 37,
     "metadata": {},
     "output_type": "execute_result"
    }
   ],
   "source": [
    "# 以Pandas函數統計各類別資料筆數\n",
    "pd.Series(y).value_counts()"
   ]
  },
  {
   "cell_type": "markdown",
   "metadata": {},
   "source": [
    "## 3. 不須進行特徵工程"
   ]
  },
  {
   "cell_type": "markdown",
   "metadata": {},
   "source": [
    "## 4. 資料分割"
   ]
  },
  {
   "cell_type": "code",
   "execution_count": 38,
   "metadata": {},
   "outputs": [
    {
     "data": {
      "text/plain": [
       "((24129, 14), (6033, 14), (24129,), (6033,))"
      ]
     },
     "execution_count": 38,
     "metadata": {},
     "output_type": "execute_result"
    }
   ],
   "source": [
    "# 指定X，並轉為 Numpy 陣列\n",
    "# X = ds.values\n",
    "X = X.values\n",
    "\n",
    "# 資料分割\n",
    "X_train, X_test, y_train, y_test = train_test_split(X, y, test_size=.2)\n",
    "\n",
    "# 查看陣列維度\n",
    "X_train.shape, X_test.shape, y_train.shape, y_test.shape"
   ]
  },
  {
   "cell_type": "code",
   "execution_count": 39,
   "metadata": {
    "scrolled": true
   },
   "outputs": [
    {
     "data": {
      "text/plain": [
       "17254    1\n",
       "17159    0\n",
       "32024    1\n",
       "32012    1\n",
       "711      0\n",
       "        ..\n",
       "40       0\n",
       "32555    0\n",
       "20107    0\n",
       "3584     1\n",
       "5445     0\n",
       "Name: target, Length: 24129, dtype: int32"
      ]
     },
     "execution_count": 39,
     "metadata": {},
     "output_type": "execute_result"
    }
   ],
   "source": [
    "y_train"
   ]
  },
  {
   "cell_type": "markdown",
   "metadata": {},
   "source": [
    "## 特徵縮放"
   ]
  },
  {
   "cell_type": "code",
   "execution_count": 40,
   "metadata": {},
   "outputs": [],
   "source": [
    "from sklearn.preprocessing import StandardScaler\n",
    "scaler = StandardScaler()\n",
    "X_train_std = scaler.fit_transform(X_train)\n",
    "X_test_std = scaler.transform(X_test)"
   ]
  },
  {
   "cell_type": "markdown",
   "metadata": {},
   "source": [
    "## 5. 選擇演算法"
   ]
  },
  {
   "cell_type": "code",
   "execution_count": 41,
   "metadata": {},
   "outputs": [],
   "source": [
    "from sklearn.linear_model import LogisticRegression\n",
    "UCI = LogisticRegression()"
   ]
  },
  {
   "cell_type": "markdown",
   "metadata": {},
   "source": [
    "## 6. 模型訓練"
   ]
  },
  {
   "cell_type": "code",
   "execution_count": 42,
   "metadata": {
    "scrolled": true
   },
   "outputs": [
    {
     "data": {
      "text/html": [
       "<style>#sk-container-id-3 {color: black;}#sk-container-id-3 pre{padding: 0;}#sk-container-id-3 div.sk-toggleable {background-color: white;}#sk-container-id-3 label.sk-toggleable__label {cursor: pointer;display: block;width: 100%;margin-bottom: 0;padding: 0.3em;box-sizing: border-box;text-align: center;}#sk-container-id-3 label.sk-toggleable__label-arrow:before {content: \"▸\";float: left;margin-right: 0.25em;color: #696969;}#sk-container-id-3 label.sk-toggleable__label-arrow:hover:before {color: black;}#sk-container-id-3 div.sk-estimator:hover label.sk-toggleable__label-arrow:before {color: black;}#sk-container-id-3 div.sk-toggleable__content {max-height: 0;max-width: 0;overflow: hidden;text-align: left;background-color: #f0f8ff;}#sk-container-id-3 div.sk-toggleable__content pre {margin: 0.2em;color: black;border-radius: 0.25em;background-color: #f0f8ff;}#sk-container-id-3 input.sk-toggleable__control:checked~div.sk-toggleable__content {max-height: 200px;max-width: 100%;overflow: auto;}#sk-container-id-3 input.sk-toggleable__control:checked~label.sk-toggleable__label-arrow:before {content: \"▾\";}#sk-container-id-3 div.sk-estimator input.sk-toggleable__control:checked~label.sk-toggleable__label {background-color: #d4ebff;}#sk-container-id-3 div.sk-label input.sk-toggleable__control:checked~label.sk-toggleable__label {background-color: #d4ebff;}#sk-container-id-3 input.sk-hidden--visually {border: 0;clip: rect(1px 1px 1px 1px);clip: rect(1px, 1px, 1px, 1px);height: 1px;margin: -1px;overflow: hidden;padding: 0;position: absolute;width: 1px;}#sk-container-id-3 div.sk-estimator {font-family: monospace;background-color: #f0f8ff;border: 1px dotted black;border-radius: 0.25em;box-sizing: border-box;margin-bottom: 0.5em;}#sk-container-id-3 div.sk-estimator:hover {background-color: #d4ebff;}#sk-container-id-3 div.sk-parallel-item::after {content: \"\";width: 100%;border-bottom: 1px solid gray;flex-grow: 1;}#sk-container-id-3 div.sk-label:hover label.sk-toggleable__label {background-color: #d4ebff;}#sk-container-id-3 div.sk-serial::before {content: \"\";position: absolute;border-left: 1px solid gray;box-sizing: border-box;top: 0;bottom: 0;left: 50%;z-index: 0;}#sk-container-id-3 div.sk-serial {display: flex;flex-direction: column;align-items: center;background-color: white;padding-right: 0.2em;padding-left: 0.2em;position: relative;}#sk-container-id-3 div.sk-item {position: relative;z-index: 1;}#sk-container-id-3 div.sk-parallel {display: flex;align-items: stretch;justify-content: center;background-color: white;position: relative;}#sk-container-id-3 div.sk-item::before, #sk-container-id-3 div.sk-parallel-item::before {content: \"\";position: absolute;border-left: 1px solid gray;box-sizing: border-box;top: 0;bottom: 0;left: 50%;z-index: -1;}#sk-container-id-3 div.sk-parallel-item {display: flex;flex-direction: column;z-index: 1;position: relative;background-color: white;}#sk-container-id-3 div.sk-parallel-item:first-child::after {align-self: flex-end;width: 50%;}#sk-container-id-3 div.sk-parallel-item:last-child::after {align-self: flex-start;width: 50%;}#sk-container-id-3 div.sk-parallel-item:only-child::after {width: 0;}#sk-container-id-3 div.sk-dashed-wrapped {border: 1px dashed gray;margin: 0 0.4em 0.5em 0.4em;box-sizing: border-box;padding-bottom: 0.4em;background-color: white;}#sk-container-id-3 div.sk-label label {font-family: monospace;font-weight: bold;display: inline-block;line-height: 1.2em;}#sk-container-id-3 div.sk-label-container {text-align: center;}#sk-container-id-3 div.sk-container {/* jupyter's `normalize.less` sets `[hidden] { display: none; }` but bootstrap.min.css set `[hidden] { display: none !important; }` so we also need the `!important` here to be able to override the default hidden behavior on the sphinx rendered scikit-learn.org. See: https://github.com/scikit-learn/scikit-learn/issues/21755 */display: inline-block !important;position: relative;}#sk-container-id-3 div.sk-text-repr-fallback {display: none;}</style><div id=\"sk-container-id-3\" class=\"sk-top-container\"><div class=\"sk-text-repr-fallback\"><pre>LogisticRegression()</pre><b>In a Jupyter environment, please rerun this cell to show the HTML representation or trust the notebook. <br />On GitHub, the HTML representation is unable to render, please try loading this page with nbviewer.org.</b></div><div class=\"sk-container\" hidden><div class=\"sk-item\"><div class=\"sk-estimator sk-toggleable\"><input class=\"sk-toggleable__control sk-hidden--visually\" id=\"sk-estimator-id-3\" type=\"checkbox\" checked><label for=\"sk-estimator-id-3\" class=\"sk-toggleable__label sk-toggleable__label-arrow\">LogisticRegression</label><div class=\"sk-toggleable__content\"><pre>LogisticRegression()</pre></div></div></div></div></div>"
      ],
      "text/plain": [
       "LogisticRegression()"
      ]
     },
     "execution_count": 42,
     "metadata": {},
     "output_type": "execute_result"
    }
   ],
   "source": [
    "UCI.fit(X_train_std, y_train)"
   ]
  },
  {
   "cell_type": "markdown",
   "metadata": {},
   "source": [
    "## 7. 模型評估"
   ]
  },
  {
   "cell_type": "code",
   "execution_count": 43,
   "metadata": {},
   "outputs": [
    {
     "data": {
      "text/plain": [
       "array([0, 0, 0, ..., 0, 0, 0])"
      ]
     },
     "execution_count": 43,
     "metadata": {},
     "output_type": "execute_result"
    }
   ],
   "source": [
    "y_pred = UCI.predict(X_test_std)\n",
    "y_pred"
   ]
  },
  {
   "cell_type": "code",
   "execution_count": 29,
   "metadata": {},
   "outputs": [
    {
     "data": {
      "text/plain": [
       "array([[0.82401344, 0.17598656],\n",
       "       [0.97290805, 0.02709195],\n",
       "       [0.24715597, 0.75284403],\n",
       "       ...,\n",
       "       [0.89815671, 0.10184329],\n",
       "       [0.97854586, 0.02145414],\n",
       "       [0.8385612 , 0.1614388 ]])"
      ]
     },
     "execution_count": 29,
     "metadata": {},
     "output_type": "execute_result"
    }
   ],
   "source": [
    "y_pred = UCI.predict_proba(X_test_std)\n",
    "y_pred"
   ]
  },
  {
   "cell_type": "code",
   "execution_count": 44,
   "metadata": {},
   "outputs": [
    {
     "name": "stdout",
     "output_type": "stream",
     "text": [
      "82.08%\n"
     ]
    }
   ],
   "source": [
    "# 計算準確率\n",
    "print(f'{accuracy_score(y_test, y_pred)*100:.2f}%') "
   ]
  },
  {
   "cell_type": "code",
   "execution_count": 45,
   "metadata": {},
   "outputs": [
    {
     "name": "stdout",
     "output_type": "stream",
     "text": [
      "[[4259  264]\n",
      " [ 817  693]]\n"
     ]
    }
   ],
   "source": [
    "# 混淆矩陣\n",
    "from sklearn.metrics import confusion_matrix\n",
    "print(confusion_matrix(y_test, y_pred))"
   ]
  },
  {
   "cell_type": "code",
   "execution_count": 46,
   "metadata": {},
   "outputs": [
    {
     "data": {
      "image/png": "[encoded data removed]",
      "text/plain": [
       "<Figure size 640x480 with 2 Axes>"
      ]
     },
     "metadata": {},
     "output_type": "display_data"
    }
   ],
   "source": [
    "# 混淆矩陣圖\n",
    "from sklearn.metrics import ConfusionMatrixDisplay\n",
    "import matplotlib.pyplot as plt\n",
    "\n",
    "disp = ConfusionMatrixDisplay(confusion_matrix=confusion_matrix(y_test, y_pred)\n",
    "                              , display_labels=target_names)\n",
    "disp.plot()\n",
    "plt.show()"
   ]
  },
  {
   "cell_type": "markdown",
   "metadata": {},
   "source": [
    "## 8. 模型評估，暫不進行"
   ]
  },
  {
   "cell_type": "markdown",
   "metadata": {},
   "source": [
    "## 9. 模型佈署"
   ]
  },
  {
   "cell_type": "code",
   "execution_count": 47,
   "metadata": {},
   "outputs": [
    {
     "data": {
      "text/plain": [
       "['UCI_scaler.joblib']"
      ]
     },
     "execution_count": 47,
     "metadata": {},
     "output_type": "execute_result"
    }
   ],
   "source": [
    "# 模型存檔\n",
    "import joblib\n",
    "\n",
    "joblib.dump(UCI, 'UCI_model.joblib')\n",
    "joblib.dump(scaler, 'UCI_scaler.joblib')"
   ]
  },
  {
   "cell_type": "markdown",
   "metadata": {},
   "source": [
    "## 10.模型預測"
   ]
  },
  {
   "cell_type": "code",
   "execution_count": null,
   "metadata": {},
   "outputs": [],
   "source": []
  },
  {
   "cell_type": "code",
   "execution_count": null,
   "metadata": {},
   "outputs": [],
   "source": []
  }
 ],
 "metadata": {
  "kernelspec": {
   "display_name": "Python 3 (ipykernel)",
   "language": "python",
   "name": "python3"
  },
  "language_info": {
   "codemirror_mode": {
    "name": "ipython",
    "version": 3
   },
   "file_extension": ".py",
   "mimetype": "text/x-python",
   "name": "python",
   "nbconvert_exporter": "python",
   "pygments_lexer": "ipython3",
   "version": "3.11.4"
  }
 },
 "nbformat": 4,
 "nbformat_minor": 2
}
